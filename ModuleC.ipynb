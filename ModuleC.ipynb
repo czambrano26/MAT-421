{
  "nbformat": 4,
  "nbformat_minor": 0,
  "metadata": {
    "colab": {
      "provenance": [],
      "authorship_tag": "ABX9TyOm7STx0+tO5L2JCzDftF9q",
      "include_colab_link": true
    },
    "kernelspec": {
      "name": "python3",
      "display_name": "Python 3"
    },
    "language_info": {
      "name": "python"
    }
  },
  "cells": [
    {
      "cell_type": "markdown",
      "metadata": {
        "id": "view-in-github",
        "colab_type": "text"
      },
      "source": [
        "<a href=\"https://colab.research.google.com/github/czambrano26/MAT-421/blob/main/ModuleC.ipynb\" target=\"_parent\"><img src=\"https://colab.research.google.com/assets/colab-badge.svg\" alt=\"Open In Colab\"/></a>"
      ]
    },
    {
      "cell_type": "markdown",
      "source": [
        "Section 19.1: Root Finding Problem Statement\n",
        "\n",
        "---\n",
        "The root or zero of a function, f(x), is an x such that f(x_r)=0. \n",
        "\n",
        "For some functions, determining an analytic solutions for the roots of functions can be difficult. In such cases, it is useful to generate numerical approximations of the roots of function f."
      ],
      "metadata": {
        "id": "Z1wIItK0IXz1"
      }
    },
    {
      "cell_type": "markdown",
      "source": [
        "Use the fsolve function from scipy to compute the root of f(x)=tan(x) - x near 4. Verify that the solution is a root."
      ],
      "metadata": {
        "id": "VfUMXe3r9S76"
      }
    },
    {
      "cell_type": "code",
      "source": [
        "from numpy.lib.polynomial import roots\n",
        "import numpy as np\n",
        "from scipy import optimize\n",
        "from scipy.optimize.slsqp import exp\n",
        "\n",
        "funct = lambda x: np.tan(x) - x\n",
        "root = optimize.fsolve(funct, 4)\n",
        "print(\"r =\", root)\n",
        "\n",
        "# Verify that the solution is a root\n",
        "result = funct(root)\n",
        "print(\"result =\", result)"
      ],
      "metadata": {
        "colab": {
          "base_uri": "https://localhost:8080/"
        },
        "id": "ecQhYaNd9FgZ",
        "outputId": "74b49581-613c-4f3c-aa5e-d5177aa5e391"
      },
      "execution_count": null,
      "outputs": [
        {
          "output_type": "stream",
          "name": "stdout",
          "text": [
            "r = [4.49340946]\n",
            "result = [5.74651438e-13]\n"
          ]
        }
      ]
    },
    {
      "cell_type": "markdown",
      "source": [
        "The function f(x)=e^x has no root. Use the fsolve function to try to compute the root of f(x). "
      ],
      "metadata": {
        "id": "GDEnNOnp_dpz"
      }
    },
    {
      "cell_type": "code",
      "source": [
        "funct = lambda x: exp(x)\n",
        "\n",
        "root, infodict, ier, mesg = optimize.fsolve(funct, -2, full_output=True)\n",
        "print(\"r =\", root)\n",
        "\n",
        "result = funct(root)\n",
        "print(\"result =\", result)\n",
        "\n",
        "print(mesg)"
      ],
      "metadata": {
        "colab": {
          "base_uri": "https://localhost:8080/"
        },
        "id": "URFB9Ya9_mF_",
        "outputId": "359a21c9-450d-4466-a4b5-b6d99c5bf6c1"
      },
      "execution_count": null,
      "outputs": [
        {
          "output_type": "stream",
          "name": "stdout",
          "text": [
            "r = [-278.10007928]\n",
            "result = [1.6698219e-121]\n",
            "The number of calls to function has reached maxfev = 400.\n"
          ]
        }
      ]
    },
    {
      "cell_type": "markdown",
      "source": [
        "This returned a value r that is not a root and a small f(r) value. We can see that we get the message \"The number of calls to function has reached maxfev = 400.\""
      ],
      "metadata": {
        "id": "KYl5-Z-wD0nL"
      }
    },
    {
      "cell_type": "markdown",
      "source": [
        "Section 19.2: Tolerance\n",
        "\n",
        "---\n",
        "Tolerance is the level of error that is acceptable. A computer program has converged to a solution when the solution has an error smaller than the tolerance. \n",
        "\n",
        "It is important to establish a metric for error and a tolerance that is suitable for an application. \n",
        "\n",
        "Recall when we are computing roots that we want an x such that f(x_r) is close to 0. So, |f(x)| is an option for a measure of error since the smaller it is, the more likely we have a root. \n",
        "\n",
        "If we assume that x_i is the ith guess of an algorithm, then |x_i+1 - x_i| is another option. "
      ],
      "metadata": {
        "id": "DaOEpG5w774J"
      }
    },
    {
      "cell_type": "markdown",
      "source": [
        "Section 19.3: Bisection Method\n",
        "\n",
        "---\n",
        "The Intermediate Value Theorem (IVT) says that if f(x) is a continuous function between a and b and sign(f(a)) does not equal sign(f(b)), there there must be a value c such that a<c<b and f(c)=0. \n",
        "\n",
        "The bisection method uses the IVT to find roots. If f(x) is a continuous function, values a and b are real scalar values such that a<b, and f(a)>0 and f(b)<0, then by IVT there must be a root on interval (a,b). \n",
        "\n",
        "If f(midpoint) = 0, then midpoint is a root. If f(midpoint) is greater than 0, then a root is guaranteed on the interval (midpoint, b). If f(midpoint) is less than 0, then a root is guaranteed on the interval (a, midpoint). "
      ],
      "metadata": {
        "id": "RHaN_mY7782A"
      }
    },
    {
      "cell_type": "markdown",
      "source": [
        "Approximate a root r of function f, bounded by a and b. Tolerance should be less than |f((a+b)/2)|\n",
        "\n",
        "The sqrt(3) can be computed as the root of f(x)=x^2-3. Start at a=0 and b=2 and approximate the sqrt(3) to a tolerance of |f(x)|<0.1 and |f(x)|<0.01. Verify that the results are close to a root by plugging the root back into the function. "
      ],
      "metadata": {
        "id": "V1eFZMg2zFsw"
      }
    },
    {
      "cell_type": "code",
      "source": [
        "import numpy as np\n",
        "\n",
        "def bisection(f, a, b, tolerance):\n",
        "\n",
        "  # check if a and b found a root\n",
        "  if np.sign(f(a)) == np.sign(f(b)):\n",
        "    raise Exeption(\n",
        "        \"The scalars a and b do not bound a root\")\n",
        "    \n",
        "  # get midpoint\n",
        "  midpoint = (a+b)/2\n",
        "\n",
        "  if np.abs(f(midpoint)) < tolerance:\n",
        "    return midpoint\n",
        "\n",
        "  elif np.sign(f(a)) == np.sign(f(midpoint)):\n",
        "    return bisection(f, midpoint, b, tolerance)\n",
        "\n",
        "  elif np.sign(f(b)) == np.sign(f(midpoint)):\n",
        "    return bisection(f, midpoint, a, tolerance)"
      ],
      "metadata": {
        "id": "amwsLd1QHeo3"
      },
      "execution_count": 7,
      "outputs": []
    },
    {
      "cell_type": "code",
      "source": [
        "f = lambda x: x**2 - 3\n",
        "\n",
        "r1 = bisection(f, 0, 2, 0.1)\n",
        "print(\"r1 =\", r1)\n",
        "r01 = bisection(f, 0, 2, 0.01)\n",
        "print(\"r01 =\", r01)\n",
        "\n",
        "print(\"f(r1) =\", f(r1))\n",
        "print(\"f(r01) =\", f(r01))"
      ],
      "metadata": {
        "colab": {
          "base_uri": "https://localhost:8080/"
        },
        "id": "Awxsf0Yb08ZR",
        "outputId": "1f849288-6891-483e-f7ce-b8e50fc86ac9"
      },
      "execution_count": 10,
      "outputs": [
        {
          "output_type": "stream",
          "name": "stdout",
          "text": [
            "r1 = 1.75\n",
            "r01 = 1.734375\n",
            "f(r1) = 0.0625\n",
            "f(r01) = 0.008056640625\n"
          ]
        }
      ]
    },
    {
      "cell_type": "markdown",
      "source": [
        "Section 19.4: Newton-Raphson Method\n",
        "\n",
        "---\n",
        "A Newton step computes an improved guess x_i using a previous guess x_(i-1) and is given by the equation x_i=x_(i-1)- [g(x_(i-1))]/[g'(x_(i-1))].\n",
        "\n",
        "The Newton-Raphson Method of finding roots iterates Newton steps from x0 until the error is less than the tolerance.\n",
        "\n",
        "The sqrt(3) is the root of the function  f(x)=x^2-3. Using x0=1.7 as a starting point, use the previous equation to estimate sqrt(3). Compare this value to the value generated by the sqrt function in Python. "
      ],
      "metadata": {
        "id": "iPKXigWM7-NI"
      }
    },
    {
      "cell_type": "code",
      "source": [
        "import numpy as np\n",
        "\n",
        "f = lambda x: x**2 - 3\n",
        "f_prime = lambda x: 2*x\n",
        "newton_raphson = 1.7 - (f(1.7))/(f_prime(1.7))\n",
        "\n",
        "print(\"newton_raphson =\", newton_raphson)\n",
        "print(\"sqrt(3) =\", np.sqrt(3))"
      ],
      "metadata": {
        "colab": {
          "base_uri": "https://localhost:8080/"
        },
        "id": "J9ia34R46BmI",
        "outputId": "d3bc0e94-a64a-415a-c0d0-6352bd7482e1"
      },
      "execution_count": 15,
      "outputs": [
        {
          "output_type": "stream",
          "name": "stdout",
          "text": [
            "newton_raphson = 1.7323529411764707\n",
            "sqrt(3) = 1.7320508075688772\n"
          ]
        }
      ]
    },
    {
      "cell_type": "markdown",
      "source": [
        "Write a function to compute sqrt(3) to within tolerance of 1e^-6 starting at x0=1.7"
      ],
      "metadata": {
        "id": "I5yd_Llz7QT7"
      }
    },
    {
      "cell_type": "code",
      "source": [
        "def my_newton(f, df, x0, tol):\n",
        "    # output is an estimation of the root of f \n",
        "    # using the Newton Raphson method\n",
        "    # recursive implementation\n",
        "    if abs(f(x0)) < tol:\n",
        "        return x0\n",
        "    else:\n",
        "        return my_newton(f, df, x0 - f(x0)/df(x0), tol)\n",
        "\n",
        "estimate = my_newton(f, f_prime, 1.5, 1e-6)\n",
        "print(\"estimate =\", estimate)\n",
        "print(\"sqrt(3) =\", np.sqrt(3))"
      ],
      "metadata": {
        "colab": {
          "base_uri": "https://localhost:8080/"
        },
        "id": "DvWBV1247s2J",
        "outputId": "3dcdb198-ea7d-43c8-988c-50d751412c47"
      },
      "execution_count": 17,
      "outputs": [
        {
          "output_type": "stream",
          "name": "stdout",
          "text": [
            "estimate = 1.7320508100147276\n",
            "sqrt(3) = 1.7320508075688772\n"
          ]
        }
      ]
    },
    {
      "cell_type": "markdown",
      "source": [
        "Section 19.5: Root Finding in Python\n",
        "\n",
        "---\n",
        "Python has a root-finding function for use. The f_solve function takes in many arguments but the two most important are the function you want to find the root for, and the initial guess."
      ],
      "metadata": {
        "id": "-NiimL1S7_l-"
      }
    },
    {
      "cell_type": "markdown",
      "source": [
        "Compute the root of the function f(x)=x^4-50x^2"
      ],
      "metadata": {
        "id": "GuC37hXnbb9S"
      }
    },
    {
      "cell_type": "code",
      "source": [
        "from scipy.optimize import fsolve\n",
        "\n",
        "f = lambda x: x**4-50*x**2\n",
        "\n",
        "\n",
        "fsolve(f, [-10, 80])"
      ],
      "metadata": {
        "colab": {
          "base_uri": "https://localhost:8080/"
        },
        "id": "HlUMBTUDbfMY",
        "outputId": "5f8d2490-dd77-4790-b3a1-ffef7c00db6e"
      },
      "execution_count": 13,
      "outputs": [
        {
          "output_type": "execute_result",
          "data": {
            "text/plain": [
              "array([-7.07106781,  7.07106781])"
            ]
          },
          "metadata": {},
          "execution_count": 13
        }
      ]
    }
  ]
}