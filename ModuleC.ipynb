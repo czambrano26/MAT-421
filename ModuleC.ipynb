{
  "nbformat": 4,
  "nbformat_minor": 0,
  "metadata": {
    "colab": {
      "provenance": [],
      "authorship_tag": "ABX9TyNyziU3lkos8K4sCjJjsnGt",
      "include_colab_link": true
    },
    "kernelspec": {
      "name": "python3",
      "display_name": "Python 3"
    },
    "language_info": {
      "name": "python"
    }
  },
  "cells": [
    {
      "cell_type": "markdown",
      "metadata": {
        "id": "view-in-github",
        "colab_type": "text"
      },
      "source": [
        "<a href=\"https://colab.research.google.com/github/czambrano26/MAT-421/blob/main/ModuleC.ipynb\" target=\"_parent\"><img src=\"https://colab.research.google.com/assets/colab-badge.svg\" alt=\"Open In Colab\"/></a>"
      ]
    },
    {
      "cell_type": "markdown",
      "source": [
        "Section 19.1: Root Finding Problem Statement\n",
        "\n",
        "---\n",
        "The root or zero of a function, f(x), is an x such that f(x_r)=0. \n",
        "\n",
        "For some functions, determining an analytic solutions for the roots of functions can be difficult. In such cases, it is useful to generate numerical approximations of the roots of function f."
      ],
      "metadata": {
        "id": "Z1wIItK0IXz1"
      }
    },
    {
      "cell_type": "markdown",
      "source": [
        "Use the fsolve function from scipy to compute the root of f(x)=tan(x) - x near 4. Verify that the solution is a root."
      ],
      "metadata": {
        "id": "VfUMXe3r9S76"
      }
    },
    {
      "cell_type": "code",
      "source": [
        "from numpy.lib.polynomial import roots\n",
        "import numpy as np\n",
        "from scipy import optimize\n",
        "from scipy.optimize.slsqp import exp\n",
        "\n",
        "funct = lambda x: np.tan(x) - x\n",
        "root = optimize.fsolve(funct, 4)\n",
        "print(\"r =\", root)\n",
        "\n",
        "# Verify that the solution is a root\n",
        "result = funct(root)\n",
        "print(\"result =\", result)"
      ],
      "metadata": {
        "colab": {
          "base_uri": "https://localhost:8080/"
        },
        "id": "ecQhYaNd9FgZ",
        "outputId": "74b49581-613c-4f3c-aa5e-d5177aa5e391"
      },
      "execution_count": 31,
      "outputs": [
        {
          "output_type": "stream",
          "name": "stdout",
          "text": [
            "r = [4.49340946]\n",
            "result = [5.74651438e-13]\n"
          ]
        }
      ]
    },
    {
      "cell_type": "markdown",
      "source": [
        "The function f(x)=e^x has no root. Use the fsolve function to try to compute the root of f(x). "
      ],
      "metadata": {
        "id": "GDEnNOnp_dpz"
      }
    },
    {
      "cell_type": "code",
      "source": [
        "funct = lambda x: exp(x)\n",
        "\n",
        "root, infodict, ier, mesg = optimize.fsolve(funct, -2, full_output=True)\n",
        "print(\"r =\", root)\n",
        "\n",
        "result = funct(root)\n",
        "print(\"result =\", result)\n",
        "\n",
        "print(mesg)"
      ],
      "metadata": {
        "colab": {
          "base_uri": "https://localhost:8080/"
        },
        "id": "URFB9Ya9_mF_",
        "outputId": "359a21c9-450d-4466-a4b5-b6d99c5bf6c1"
      },
      "execution_count": 32,
      "outputs": [
        {
          "output_type": "stream",
          "name": "stdout",
          "text": [
            "r = [-278.10007928]\n",
            "result = [1.6698219e-121]\n",
            "The number of calls to function has reached maxfev = 400.\n"
          ]
        }
      ]
    },
    {
      "cell_type": "markdown",
      "source": [
        "This returned a value r that is not a root and a small f(r) value. We can see that we get the message \"The number of calls to function has reached maxfev = 400.\""
      ],
      "metadata": {
        "id": "KYl5-Z-wD0nL"
      }
    },
    {
      "cell_type": "markdown",
      "source": [
        "Section 19.2: Tolerance\n",
        "\n",
        "---\n",
        "Tolerance is the level of error that is acceptable. A computer program has converged to a solution when the solution has an error smaller than the tolerance. \n",
        "\n",
        "It is important to establish a metric for error and a tolerance that is suitable for an application. \n",
        "\n",
        "Recall when we are computing roots that we want an x such that f(x_r) is close to 0. So, |f(x)| is an option for a measure of error since the smaller it is, the more likely we have a root. \n",
        "\n",
        "If we assume that x_i is the ith guess of an algorithm, then |x_i+1 - x_i| is another option. "
      ],
      "metadata": {
        "id": "DaOEpG5w774J"
      }
    },
    {
      "cell_type": "code",
      "source": [],
      "metadata": {
        "id": "amwsLd1QHeo3"
      },
      "execution_count": 32,
      "outputs": []
    },
    {
      "cell_type": "markdown",
      "source": [
        "Section 19.3: Bisection Method\n",
        "\n",
        "---\n",
        "Section start"
      ],
      "metadata": {
        "id": "RHaN_mY7782A"
      }
    },
    {
      "cell_type": "markdown",
      "source": [
        "Section 19.4: Newton-Raphson Method\n",
        "\n",
        "---\n",
        "Section start"
      ],
      "metadata": {
        "id": "iPKXigWM7-NI"
      }
    },
    {
      "cell_type": "markdown",
      "source": [
        "Section 19.5: Root Finding in Python\n",
        "\n",
        "---\n",
        "Section start"
      ],
      "metadata": {
        "id": "-NiimL1S7_l-"
      }
    }
  ]
}