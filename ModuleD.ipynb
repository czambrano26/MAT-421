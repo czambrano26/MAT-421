{
  "nbformat": 4,
  "nbformat_minor": 0,
  "metadata": {
    "colab": {
      "provenance": [],
      "authorship_tag": "ABX9TyOwUM7MW3+682sHQfBya95x",
      "include_colab_link": true
    },
    "kernelspec": {
      "name": "python3",
      "display_name": "Python 3"
    },
    "language_info": {
      "name": "python"
    }
  },
  "cells": [
    {
      "cell_type": "markdown",
      "metadata": {
        "id": "view-in-github",
        "colab_type": "text"
      },
      "source": [
        "<a href=\"https://colab.research.google.com/github/czambrano26/MAT-421/blob/main/ModuleD.ipynb\" target=\"_parent\"><img src=\"https://colab.research.google.com/assets/colab-badge.svg\" alt=\"Open In Colab\"/></a>"
      ]
    },
    {
      "cell_type": "markdown",
      "source": [
        "Section 1.1 - Introduction\n",
        "\n",
        "---\n",
        "Linear algebra is a field of mathematics that plays an important role in data science and machine learning. In this chapter, we'll explore concepts that include vector spaces, orthogonality, eigenvalues, matrix decomposition. We will also expand on linear regression and principal component analysis. "
      ],
      "metadata": {
        "id": "4iX-TfoQGPLA"
      }
    },
    {
      "cell_type": "markdown",
      "source": [
        "Section 1.2 - Elements of Linear Algebra\n",
        "\n",
        "---\n",
        "Linear Subspace - A linear subspace of V is a subset U⊆V that is closed under vector addition and scalar multiplication. This means that for all u1,u2∈U and a∈R, it holds that u1+u2∈U and au1∈U. \n",
        "\n",
        "Span - Let w1, ..., wm∈V. The span of {w1, ...,wm}, denoted span(w1, ...,wm) is the set of all linear combinations of the wj's. \n",
        "\n",
        "Every Span is a Linear Subspace - Let W=span(w1, ...,wm). Then W is a linear subspace. \n",
        "\n",
        "Column Space - Let A∈R^(n*m) be an n*m matrix with columns a1, ..., am∈R^n. The column space of A, denoted by col(A), is the span of the columns of A."
      ],
      "metadata": {
        "id": "Vp49gybjdyzM"
      }
    },
    {
      "cell_type": "markdown",
      "source": [
        "Linear Independence - A list of vectors u1, ..., um is linearly independent if noe of them can be written as a linear combination of the others. \n",
        "\n",
        "Dimension Theorem - Let U be a linear subspace of V. Any basis of U always has the same number of elements. All bases of U have the same length (same number of elements). This number is called the dimension of U and is denoted as dim(U). "
      ],
      "metadata": {
        "id": "Ey_u45Mult_b"
      }
    },
    {
      "cell_type": "markdown",
      "source": [
        "Norm and Inner Product - A list of vectors is orthonormal if the ui's are pairwise orthogonal and each has norm 1. \n",
        "\n",
        "Orthogonal Projection - Let U⊆V be a linear subspace with orthonormal basis q1, ..., qm. The orthogonal projection of v∈V on U is defined as P_U v = (sum from j=1 to m) ⟨v, qj⟩qj\n",
        "\n",
        "Best Approximation Theorem - Let U⊆V be a linear subspace with orthonormal basis q1, ..., qm and v∈V. For any u∈Um ||v-P_U v|| <= ||v-u||\n",
        "\n",
        "Pythagorean Theorem - Let u, v∈V be orthogonal. Then ||u+v||^2=||u||^2+||v||^2.\n",
        "\n",
        "Cauchy-Schwarz - For any u,v∈V, |⟨u,v⟩| <= ||u|| ||v||."
      ],
      "metadata": {
        "id": "UnyikZDkmo35"
      }
    },
    {
      "cell_type": "markdown",
      "source": [
        "Gram-Schmidt Process - This is an algorithm used to obtain an orthonormal basis. Let a1, ..., am in R^n be linearly independent. Then there exists an orthonormal basis q1, ...,qm of span(a1, ...,am). "
      ],
      "metadata": {
        "id": "ZxvDjC9tvlJL"
      }
    }
  ]
}