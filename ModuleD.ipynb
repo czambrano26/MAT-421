{
  "nbformat": 4,
  "nbformat_minor": 0,
  "metadata": {
    "colab": {
      "provenance": [],
      "authorship_tag": "ABX9TyOUQ/PD5OVZ6Z6na4M6xtxG",
      "include_colab_link": true
    },
    "kernelspec": {
      "name": "python3",
      "display_name": "Python 3"
    },
    "language_info": {
      "name": "python"
    }
  },
  "cells": [
    {
      "cell_type": "markdown",
      "metadata": {
        "id": "view-in-github",
        "colab_type": "text"
      },
      "source": [
        "<a href=\"https://colab.research.google.com/github/czambrano26/MAT-421/blob/main/ModuleD.ipynb\" target=\"_parent\"><img src=\"https://colab.research.google.com/assets/colab-badge.svg\" alt=\"Open In Colab\"/></a>"
      ]
    },
    {
      "cell_type": "markdown",
      "source": [
        "Section 1.1 - Introduction\n",
        "\n",
        "---\n",
        "Linear algebra is a field of mathematics that plays an important role in data science and machine learning. In this chapter, we'll explore concepts that include vector spaces, orthogonality, eigenvalues, matrix decomposition. We will also expand on linear regression and principal component analysis. "
      ],
      "metadata": {
        "id": "4iX-TfoQGPLA"
      }
    },
    {
      "cell_type": "markdown",
      "source": [
        "Section 1.2 - Elements of Linear Algebra\n",
        "\n",
        "---\n",
        "Linear Subspace - A linear subspace of V is a subset U⊆V that is closed under vector addition and scalar multiplication. This means that for all u1,u2∈U and a∈R, it holds that u1+u2∈U and au1∈U. \n",
        "\n",
        "Span - Let w1, ..., wm∈V. The span of {w1, ...,wm}, denoted span(w1, ...,wm) is the set of all linear combinations of the wj's. \n",
        "\n",
        "Every Span is a Linear Subspace - Let W=span(w1, ...,wm). Then W is a linear subspace. \n",
        "\n",
        "Column Space - Let A∈R^(n*m) be an n*m matrix with columns a1, ..., am∈R^n. The column space of A, denoted by col(A), is the span of the columns of A."
      ],
      "metadata": {
        "id": "Vp49gybjdyzM"
      }
    },
    {
      "cell_type": "markdown",
      "source": [
        "Linear Independence - A list of vectors u1, ..., um is linearly independent if noe of them can be written as a linear combination of the others. \n",
        "\n",
        "Dimension Theorem - Let U be a linear subspace of V. Any basis of U always has the same number of elements. All bases of U have the same length (same number of elements). This number is called the dimension of U and is denoted as dim(U). "
      ],
      "metadata": {
        "id": "Ey_u45Mult_b"
      }
    },
    {
      "cell_type": "markdown",
      "source": [
        "Norm and Inner Product - A list of vectors is orthonormal if the ui's are pairwise orthogonal and each has norm 1. "
      ],
      "metadata": {
        "id": "VKgJJSkacTBp"
      }
    },
    {
      "cell_type": "code",
      "source": [
        "# Calculate the inner product of the vectors A = [1, 2, 3] and B = [0, 1, 0]\n",
        "\n",
        "import numpy as np\n",
        "\n",
        "A = np.array([1, 2, 3])\n",
        "B = np.array([0, 1, 0])\n",
        "\n",
        "inner = np.inner(A, B)\n",
        "print(f\"Inner product: {inner}\")"
      ],
      "metadata": {
        "colab": {
          "base_uri": "https://localhost:8080/"
        },
        "id": "SNu2_U6PcTrl",
        "outputId": "1465ccd0-c711-41cf-bb03-b7827f6f9722"
      },
      "execution_count": 2,
      "outputs": [
        {
          "output_type": "stream",
          "name": "stdout",
          "text": [
            "Inner product: 2\n"
          ]
        }
      ]
    },
    {
      "cell_type": "markdown",
      "source": [
        "\n",
        "Orthogonal Projection - Let U⊆V be a linear subspace with orthonormal basis q1, ..., qm. The orthogonal projection of v∈V on U is defined as P_U v = (sum from j=1 to m) ⟨v, qj⟩qj\n",
        "\n",
        "Best Approximation Theorem - Let U⊆V be a linear subspace with orthonormal basis q1, ..., qm and v∈V. For any u∈Um ||v-P_U v|| <= ||v-u||\n",
        "\n",
        "Pythagorean Theorem - Let u, v∈V be orthogonal. Then ||u+v||^2=||u||^2+||v||^2.\n",
        "\n",
        "Cauchy-Schwarz - For any u,v∈V, |⟨u,v⟩| <= ||u|| ||v||."
      ],
      "metadata": {
        "id": "UnyikZDkmo35"
      }
    },
    {
      "cell_type": "markdown",
      "source": [
        "Gram-Schmidt Process - This is an algorithm used to obtain an orthonormal basis. Let a1, ..., am in R^n be linearly independent. Then there exists an orthonormal basis q1, ...,qm of span(a1, ...,am). "
      ],
      "metadata": {
        "id": "ZxvDjC9tvlJL"
      }
    },
    {
      "cell_type": "markdown",
      "source": [
        "Eigenvalues and Eigenvectors - Let A∈R^(d*d) be square matrix. Then λ∈R is an eigenvalue of A if there exists a nonzero vector x != 0 such that Ax=λx. The vector x is referred to as an eigenvector."
      ],
      "metadata": {
        "id": "roOyvwxCIdjb"
      }
    },
    {
      "cell_type": "code",
      "source": [
        "# Calculate the eigenvalues and eigenvectors of matrix A = [[1,2]. [3,4]]\n",
        "\n",
        "import numpy as np\n",
        "from numpy.linalg import eig\n",
        "\n",
        "A = np.array([[1, 2],\n",
        "              [3, 4]])\n",
        "\n",
        "eigenvalue, eigenvector = eig(A)\n",
        "print(f\"Eigenvalue: {eigenvalue}\")\n",
        "print(f\"Eigenvector: {eigenvector}\")\n"
      ],
      "metadata": {
        "colab": {
          "base_uri": "https://localhost:8080/"
        },
        "id": "gR79eX_VKnbz",
        "outputId": "abc48f6f-d875-4efe-93ed-a98f4be1724b"
      },
      "execution_count": 3,
      "outputs": [
        {
          "output_type": "stream",
          "name": "stdout",
          "text": [
            "Eigenvalue: [-0.37228132  5.37228132]\n",
            "Eigenvector: [[-0.82456484 -0.41597356]\n",
            " [ 0.56576746 -0.90937671]]\n"
          ]
        }
      ]
    },
    {
      "cell_type": "markdown",
      "source": [
        "Diagonal Matrices - Let A be similar to a matrix D=diag(λ1,...,λd) with distinct diagonal entries. There exists a nonsingular matrix P such that A=PDP^-1. Let p1,...,pd be the columns of P. Then, AP =PD which implies that Api =λipi."
      ],
      "metadata": {
        "id": "G9QF_lbRa-Pw"
      }
    },
    {
      "cell_type": "markdown",
      "source": [
        "Section 1.3 - Linear Regression\n",
        "\n",
        "---\n",
        "\n",
        "QR Decomposition - A useful procedure to solve the linear least squares problem. The Gram-Schmidt algorithm is used to obtain an orthonormal basis from a linearly independent set. "
      ],
      "metadata": {
        "id": "_TT0QWZBbmnq"
      }
    },
    {
      "cell_type": "code",
      "source": [
        "# Calculate the QR Decomposition of the given matrix A = ([1, 2, 3], [4, 5, 6])\n",
        "\n",
        "A = np.array([[1, 2, 3], [4, 5, 6]])\n",
        "\n",
        "Q, R  = np.linalg.qr(A)\n",
        "\n",
        "print('Q:', q)\n",
        "print('R:', r)\n"
      ],
      "metadata": {
        "colab": {
          "base_uri": "https://localhost:8080/"
        },
        "id": "XnKxUukVeD8T",
        "outputId": "7230bf31-febb-43d4-8499-d42eb696133f"
      },
      "execution_count": 6,
      "outputs": [
        {
          "output_type": "stream",
          "name": "stdout",
          "text": [
            "Q: [[-0.31622777 -0.9486833 ]\n",
            " [-0.9486833   0.31622777]]\n",
            "R: [[-3.16227766 -4.42718872 -5.69209979]\n",
            " [ 0.         -0.63245553 -1.26491106]]\n"
          ]
        }
      ]
    },
    {
      "cell_type": "markdown",
      "source": [
        "Least-squares Problem (via QR) - Let A Rn×m be an n*m matrix with\n",
        "linearly independent columns, let b∈Rn be a vector, and let A=QR be a\n",
        "QR decomposition of A, where Q is a Rn×m matrix with QT Q =Im×m and R\n",
        "is upper triangular. The solution to the least-squares problem\n",
        "minx∈Rm ∥Ax− b∥, satisfies Rx∗=QT b.\n",
        "\n",
        "Normal Equations - Let A∈Rn*m be an n*m matrix with linearly independent columns and let b∈Rn be a vector. The solution to the least-squares problem\n",
        "minx∈Rm ∥Ax− b∥, satisfies A^T Ax =A^T b (these are known as normal equations)."
      ],
      "metadata": {
        "id": "flTHcaT6e2MD"
      }
    },
    {
      "cell_type": "code",
      "source": [
        "import numpy as np\n",
        "from scipy import optimize\n",
        "import matplotlib.pyplot as plt\n",
        "\n",
        "# generate random x and y\n",
        "x = np.linspace(0, 1, 50)\n",
        "y = 1 + x + x * np.random.random(len(x))\n",
        "\n",
        "# assemble matrix A\n",
        "A = np.vstack([x, np.ones(len(x))]).T\n",
        "\n",
        "# turn y into a column vector\n",
        "y = y[:, np.newaxis]\n",
        "\n",
        "# Direct least square regression\n",
        "alpha = np.dot((np.dot(np.linalg.inv(np.dot(A.T,A)),A.T)),y)\n",
        "print(alpha)\n",
        "\n",
        "# plot the results\n",
        "plt.figure(figsize = (10,8))\n",
        "plt.plot(x, y, 'b.')\n",
        "plt.plot(x, alpha[0]*x + alpha[1], 'r')\n",
        "plt.xlabel('x')\n",
        "plt.ylabel('y')\n",
        "plt.show()"
      ],
      "metadata": {
        "colab": {
          "base_uri": "https://localhost:8080/",
          "height": 554
        },
        "id": "87CpCR4zgcdO",
        "outputId": "830bb1b6-3bfc-4405-fb96-a14d14cf1ff6"
      },
      "execution_count": 12,
      "outputs": [
        {
          "output_type": "stream",
          "name": "stdout",
          "text": [
            "[[1.56050703]\n",
            " [0.98669321]]\n"
          ]
        },
        {
          "output_type": "display_data",
          "data": {
            "text/plain": [
              "<Figure size 720x576 with 1 Axes>"
            ],
            "image/png": "[encoded data removed]"
          },
          "metadata": {
            "needs_background": "light"
          }
        }
      ]
    }
  ]
}