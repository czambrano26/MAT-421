{
  "nbformat": 4,
  "nbformat_minor": 0,
  "metadata": {
    "colab": {
      "provenance": [],
      "authorship_tag": "ABX9TyOlv2NOBf994y9LtTRjHxoX",
      "include_colab_link": true
    },
    "kernelspec": {
      "name": "python3",
      "display_name": "Python 3"
    },
    "language_info": {
      "name": "python"
    }
  },
  "cells": [
    {
      "cell_type": "markdown",
      "metadata": {
        "id": "view-in-github",
        "colab_type": "text"
      },
      "source": [
        "<a href=\"https://colab.research.google.com/github/czambrano26/MAT-421/blob/main/ModuleA.ipynb\" target=\"_parent\"><img src=\"https://colab.research.google.com/assets/colab-badge.svg\" alt=\"Open In Colab\"/></a>"
      ]
    },
    {
      "cell_type": "markdown",
      "source": [
        "# Chapter 9 - Representation of Numbers\n",
        "---"
      ],
      "metadata": {
        "id": "6UnDPlkLUqxA"
      }
    },
    {
      "cell_type": "markdown",
      "source": [
        "Section 9.1: Base-N and Binary\n",
        "\n",
        "There are many ways of representing numbers. \n",
        "\n",
        "base10 is the traditional decimal system where each digit is associated with a power of 10 and coefficients range from 0 to 9. \n",
        "\n",
        "base2 is binary representation. The coefficient range is from 0 to 1, with each digit being associated with a power of 2. "
      ],
      "metadata": {
        "id": "Ma307iVFeU-Z"
      }
    },
    {
      "cell_type": "markdown",
      "source": [
        "Convert 11 (base10) into binary (base2)"
      ],
      "metadata": {
        "id": "uM_FtitZZeDf"
      }
    },
    {
      "cell_type": "code",
      "source": [
        "bin(11)"
      ],
      "metadata": {
        "colab": {
          "base_uri": "https://localhost:8080/",
          "height": 35
        },
        "id": "T7GasajmVCMr",
        "outputId": "31d667e6-09ac-4eaf-bdcb-6dc5e7607e90"
      },
      "execution_count": null,
      "outputs": [
        {
          "output_type": "execute_result",
          "data": {
            "text/plain": [
              "'0b1011'"
            ],
            "application/vnd.google.colaboratory.intrinsic+json": {
              "type": "string"
            }
          },
          "metadata": {},
          "execution_count": 2
        }
      ]
    },
    {
      "cell_type": "markdown",
      "source": [
        "Addition and multiplication in binary works similarly to addition/multiplication in decimal representation.\n",
        "\n",
        "Compute 37 + 17 \n",
        "\n",
        "Compute 37 * 17\n",
        "\n",
        "First, we will convert 37 and 17 to binary"
      ],
      "metadata": {
        "id": "rBvZHpZuZuzL"
      }
    },
    {
      "cell_type": "code",
      "source": [
        "x = bin(37)\n",
        "print(x[2:])\n",
        "\n",
        "y = bin(17)\n",
        "print(y[2:])\n"
      ],
      "metadata": {
        "colab": {
          "base_uri": "https://localhost:8080/"
        },
        "id": "O9l62xEXaWB2",
        "outputId": "6dbbb785-fb0e-4f05-8a05-a0da4763db94"
      },
      "execution_count": null,
      "outputs": [
        {
          "output_type": "stream",
          "name": "stdout",
          "text": [
            "100101\n",
            "10001\n"
          ]
        }
      ]
    },
    {
      "cell_type": "markdown",
      "source": [
        "Lets add x and y together."
      ],
      "metadata": {
        "id": "exUVy9wWa8C2"
      }
    },
    {
      "cell_type": "code",
      "source": [
        "sum = bin(int(x, 2) + int(y, 2))\n",
        "print(sum[2:])"
      ],
      "metadata": {
        "colab": {
          "base_uri": "https://localhost:8080/"
        },
        "id": "kayu1k2XaYTC",
        "outputId": "22040584-33f9-4493-aebf-c11cd576fb18"
      },
      "execution_count": null,
      "outputs": [
        {
          "output_type": "stream",
          "name": "stdout",
          "text": [
            "110110\n"
          ]
        }
      ]
    },
    {
      "cell_type": "markdown",
      "source": [
        "Now, lets multiply x and y."
      ],
      "metadata": {
        "id": "dvPiNlqNafm1"
      }
    },
    {
      "cell_type": "code",
      "source": [
        "product = bin(int(x, 2) * int(y, 2))\n",
        "print(product[2:])"
      ],
      "metadata": {
        "id": "ezOkN719cr-I",
        "colab": {
          "base_uri": "https://localhost:8080/"
        },
        "outputId": "0a9f581b-8163-4aa9-d116-2079c365f552"
      },
      "execution_count": 21,
      "outputs": [
        {
          "output_type": "stream",
          "name": "stdout",
          "text": [
            "1001110101\n"
          ]
        }
      ]
    }
  ]
}