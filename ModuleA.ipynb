{
  "nbformat": 4,
  "nbformat_minor": 0,
  "metadata": {
    "colab": {
      "provenance": [],
      "authorship_tag": "ABX9TyOw0aTXJ8sMUhgQJX6aJpxa",
      "include_colab_link": true
    },
    "kernelspec": {
      "name": "python3",
      "display_name": "Python 3"
    },
    "language_info": {
      "name": "python"
    }
  },
  "cells": [
    {
      "cell_type": "markdown",
      "metadata": {
        "id": "view-in-github",
        "colab_type": "text"
      },
      "source": [
        "<a href=\"https://colab.research.google.com/github/czambrano26/MAT-421/blob/main/ModuleA.ipynb\" target=\"_parent\"><img src=\"https://colab.research.google.com/assets/colab-badge.svg\" alt=\"Open In Colab\"/></a>"
      ]
    },
    {
      "cell_type": "markdown",
      "source": [
        "Section 9.1: Base-N and Binary\n",
        "\n",
        "---\n",
        "\n",
        "There are many ways of representing numbers. \n",
        "\n",
        "base10 is the traditional decimal system where each digit is associated with a power of 10 and coefficients range from 0 to 9. \n",
        "\n",
        "base2 is binary representation. The coefficient range is from 0 to 1, with each digit being associated with a power of 2. "
      ],
      "metadata": {
        "id": "Ma307iVFeU-Z"
      }
    },
    {
      "cell_type": "markdown",
      "source": [
        "Convert 11 (base10) into binary (base2)"
      ],
      "metadata": {
        "id": "uM_FtitZZeDf"
      }
    },
    {
      "cell_type": "code",
      "source": [
        "print(bin(11)[2:])"
      ],
      "metadata": {
        "colab": {
          "base_uri": "https://localhost:8080/"
        },
        "id": "T7GasajmVCMr",
        "outputId": "56a10365-f2a7-4e07-ea7e-36c8320178f6"
      },
      "execution_count": null,
      "outputs": [
        {
          "output_type": "stream",
          "name": "stdout",
          "text": [
            "1011\n"
          ]
        }
      ]
    },
    {
      "cell_type": "markdown",
      "source": [
        "Addition and multiplication in binary works similarly to addition/multiplication in decimal representation.\n",
        "\n",
        "Compute 37 + 17 \n",
        "\n",
        "Compute 37 * 17\n",
        "\n",
        "First, we will convert 37 and 17 to binary"
      ],
      "metadata": {
        "id": "rBvZHpZuZuzL"
      }
    },
    {
      "cell_type": "code",
      "source": [
        "x = bin(37)\n",
        "print(x[2:])\n",
        "\n",
        "y = bin(17)\n",
        "print(y[2:])\n"
      ],
      "metadata": {
        "colab": {
          "base_uri": "https://localhost:8080/"
        },
        "id": "O9l62xEXaWB2",
        "outputId": "6dbbb785-fb0e-4f05-8a05-a0da4763db94"
      },
      "execution_count": null,
      "outputs": [
        {
          "output_type": "stream",
          "name": "stdout",
          "text": [
            "100101\n",
            "10001\n"
          ]
        }
      ]
    },
    {
      "cell_type": "markdown",
      "source": [
        "Lets add x and y together."
      ],
      "metadata": {
        "id": "exUVy9wWa8C2"
      }
    },
    {
      "cell_type": "code",
      "source": [
        "sum = bin(int(x, 2) + int(y, 2))\n",
        "print(sum[2:])"
      ],
      "metadata": {
        "colab": {
          "base_uri": "https://localhost:8080/"
        },
        "id": "kayu1k2XaYTC",
        "outputId": "22040584-33f9-4493-aebf-c11cd576fb18"
      },
      "execution_count": null,
      "outputs": [
        {
          "output_type": "stream",
          "name": "stdout",
          "text": [
            "110110\n"
          ]
        }
      ]
    },
    {
      "cell_type": "markdown",
      "source": [
        "Now, lets multiply x and y."
      ],
      "metadata": {
        "id": "dvPiNlqNafm1"
      }
    },
    {
      "cell_type": "code",
      "source": [
        "product = bin(int(x, 2) * int(y, 2))\n",
        "print(product[2:])"
      ],
      "metadata": {
        "id": "ezOkN719cr-I",
        "colab": {
          "base_uri": "https://localhost:8080/"
        },
        "outputId": "0a9f581b-8163-4aa9-d116-2079c365f552"
      },
      "execution_count": null,
      "outputs": [
        {
          "output_type": "stream",
          "name": "stdout",
          "text": [
            "1001110101\n"
          ]
        }
      ]
    },
    {
      "cell_type": "markdown",
      "source": [
        "Binary numbers are useful because we can use AND, OR, and NOT. "
      ],
      "metadata": {
        "id": "Vn2mPo8_yixb"
      }
    },
    {
      "cell_type": "markdown",
      "source": [
        "Section 9.2 - Floating Point Numbers\n",
        "\n",
        "---\n",
        "\n",
        "Floats allocate bits to three different parts\n",
        "- The sign indicator, s\n",
        "- The characteristic or exponent, e\n",
        "- The fraction, f\n",
        "\n",
        "If we have 64 bits, then 1 bit is allocated to the sign, 11 bits are allocated to the exponent, and 52 bits are allocated to the fraction. \n",
        "\n",
        "Note: Since we want to make precise numbers, we need to represent negative exponents. To do so, we subtract 1023 from the exponent to normalize it (referred to as bias). "
      ],
      "metadata": {
        "id": "zHl1H5hfr0za"
      }
    },
    {
      "cell_type": "markdown",
      "source": [
        "We can get the float information using the sys package in Python"
      ],
      "metadata": {
        "id": "8QQ8ReWDzF8S"
      }
    },
    {
      "cell_type": "code",
      "source": [
        "import sys\n",
        "sys.float_info"
      ],
      "metadata": {
        "colab": {
          "base_uri": "https://localhost:8080/"
        },
        "id": "0gbzuqtLybJK",
        "outputId": "2fe0c662-f443-4789-dbe4-ae234f1724a2"
      },
      "execution_count": 10,
      "outputs": [
        {
          "output_type": "execute_result",
          "data": {
            "text/plain": [
              "sys.float_info(max=1.7976931348623157e+308, max_exp=1024, max_10_exp=308, min=2.2250738585072014e-308, min_exp=-1021, min_10_exp=-307, dig=15, mant_dig=53, epsilon=2.220446049250313e-16, radix=2, rounds=1)"
            ]
          },
          "metadata": {},
          "execution_count": 10
        }
      ]
    },
    {
      "cell_type": "markdown",
      "source": [
        "Determine the gap at 1e6. Verify that adding a number to 1e6 that is less than half the gap at 1e6 results in the same number."
      ],
      "metadata": {
        "id": "R0FV5CLy2QK6"
      }
    },
    {
      "cell_type": "code",
      "source": [
        "import numpy as np\n",
        "np.spacing(1e6)"
      ],
      "metadata": {
        "colab": {
          "base_uri": "https://localhost:8080/"
        },
        "id": "mPcz0ciG3LQs",
        "outputId": "c885f407-1f6f-43fc-d356-765b0835c976"
      },
      "execution_count": 5,
      "outputs": [
        {
          "output_type": "execute_result",
          "data": {
            "text/plain": [
              "1.1641532182693481e-10"
            ]
          },
          "metadata": {},
          "execution_count": 5
        }
      ]
    },
    {
      "cell_type": "code",
      "source": [
        "1e6 == (1e6 + np.spacing(1e6)/3)"
      ],
      "metadata": {
        "colab": {
          "base_uri": "https://localhost:8080/"
        },
        "id": "Uv1l7jj03Zu3",
        "outputId": "a043b3e6-1e76-43e7-dcea-f31b1fc7b588"
      },
      "execution_count": 6,
      "outputs": [
        {
          "output_type": "execute_result",
          "data": {
            "text/plain": [
              "True"
            ]
          },
          "metadata": {},
          "execution_count": 6
        }
      ]
    },
    {
      "cell_type": "markdown",
      "source": [
        "Numbers that are larger than the largest representable floating point number result in overflow.\n",
        "\n",
        "Show that adding the maximum 64 bits float number with itself will result in overflow."
      ],
      "metadata": {
        "id": "xlCb9s6B4SII"
      }
    },
    {
      "cell_type": "code",
      "source": [
        "sys.float_info.max + sys.float_info.max"
      ],
      "metadata": {
        "colab": {
          "base_uri": "https://localhost:8080/"
        },
        "id": "nWNJgaXd4oJk",
        "outputId": "55319f92-55ab-49de-d2e8-9d219d4fa493"
      },
      "execution_count": 12,
      "outputs": [
        {
          "output_type": "execute_result",
          "data": {
            "text/plain": [
              "inf"
            ]
          },
          "metadata": {},
          "execution_count": 12
        }
      ]
    },
    {
      "cell_type": "markdown",
      "source": [
        "Numbers that are smaller than the smallest subnormal number result in underflow. \n",
        "\n",
        "Show an example of a floating point number that will result in underflow. "
      ],
      "metadata": {
        "id": "0e4zmEN34pi7"
      }
    },
    {
      "cell_type": "code",
      "source": [
        "2**(-1077)"
      ],
      "metadata": {
        "colab": {
          "base_uri": "https://localhost:8080/"
        },
        "id": "LgPy0Ojt46b0",
        "outputId": "b3e9e77f-0f51-41a7-cac4-4107cf655e47"
      },
      "execution_count": 16,
      "outputs": [
        {
          "output_type": "execute_result",
          "data": {
            "text/plain": [
              "0.0"
            ]
          },
          "metadata": {},
          "execution_count": 16
        }
      ]
    },
    {
      "cell_type": "markdown",
      "source": [
        "IEE754 overcomes the limitations that binary has by using high precision at small numbers and low precision at high numbers. "
      ],
      "metadata": {
        "id": "n7_iV5ES8JsY"
      }
    },
    {
      "cell_type": "markdown",
      "source": [
        "Section 9.3 - Round-off Errors\n",
        "\n",
        "---\n",
        "\n"
      ],
      "metadata": {
        "id": "KTvRDYEd06Km"
      }
    },
    {
      "cell_type": "markdown",
      "source": [
        "Floating point numbers are represented as base 2 fractions. This means that numbers are approximated by finite number of bytes. The round-off error is the difference between the approximation of a number and its true value. \n",
        "\n",
        "Demonstrate a calculation in Python that results in a round-off error."
      ],
      "metadata": {
        "id": "hpaq0Bnq83QI"
      }
    },
    {
      "cell_type": "code",
      "source": [
        "# In a normal calculator, this would be correct. However, since \n",
        "# Python is using an approximated value, it returns false\n",
        "5.3 - 5.155 == 0.145"
      ],
      "metadata": {
        "colab": {
          "base_uri": "https://localhost:8080/"
        },
        "id": "nVKXuoO71v1x",
        "outputId": "5dc9915c-9637-4435-fbf4-5d5adc87736a"
      },
      "execution_count": 24,
      "outputs": [
        {
          "output_type": "execute_result",
          "data": {
            "text/plain": [
              "False"
            ]
          },
          "metadata": {},
          "execution_count": 24
        }
      ]
    },
    {
      "cell_type": "code",
      "source": [
        "# The number that Python returns is not exactly 0.145\n",
        "5.3 - 5.155"
      ],
      "metadata": {
        "colab": {
          "base_uri": "https://localhost:8080/"
        },
        "id": "-JfUJL5i-EyG",
        "outputId": "81cf413c-5f72-4118-9644-293dbc975350"
      },
      "execution_count": 25,
      "outputs": [
        {
          "output_type": "execute_result",
          "data": {
            "text/plain": [
              "0.14499999999999957"
            ]
          },
          "metadata": {},
          "execution_count": 25
        }
      ]
    },
    {
      "cell_type": "markdown",
      "source": [
        "We can use the round function for post-rounding to make results closer to their intended exact values."
      ],
      "metadata": {
        "id": "jcG1bB29_c9E"
      }
    },
    {
      "cell_type": "code",
      "source": [
        "round(5.3-5.155, 5) == round(0.145, 5)"
      ],
      "metadata": {
        "colab": {
          "base_uri": "https://localhost:8080/"
        },
        "id": "wNmB6V--_u6x",
        "outputId": "8e4254ee-345b-4e84-d1f6-78667bdf2e66"
      },
      "execution_count": 33,
      "outputs": [
        {
          "output_type": "execute_result",
          "data": {
            "text/plain": [
              "True"
            ]
          },
          "metadata": {},
          "execution_count": 33
        }
      ]
    },
    {
      "cell_type": "markdown",
      "source": [
        "When we compute a sequence of calculations on an initial input with round-off error, this can result in errors being magnified. \n",
        "\n",
        "Lets take the equation 2 + 5/6 - 5/6.\n",
        "\n",
        "The function below will allow us to calculate this as many times as we would like so that we can see the errors accumulating. "
      ],
      "metadata": {
        "id": "sByiSiUaAgKy"
      }
    },
    {
      "cell_type": "code",
      "source": [
        "def add_and_subtract(iterations):\n",
        "  result = 2\n",
        "\n",
        "  for i in range(iterations):\n",
        "    result += 5/6\n",
        "\n",
        "  for i in range(iterations):\n",
        "    result -= 5/6\n",
        "\n",
        "  return result"
      ],
      "metadata": {
        "id": "rfpWsITqBluR"
      },
      "execution_count": 51,
      "outputs": []
    },
    {
      "cell_type": "code",
      "source": [
        "add_and_subtract(1000)"
      ],
      "metadata": {
        "colab": {
          "base_uri": "https://localhost:8080/"
        },
        "id": "UrBUqXiXB7aa",
        "outputId": "2767e238-8f9a-40fb-c524-868d95dc4674"
      },
      "execution_count": 52,
      "outputs": [
        {
          "output_type": "execute_result",
          "data": {
            "text/plain": [
              "2.0000000000000537"
            ]
          },
          "metadata": {},
          "execution_count": 52
        }
      ]
    },
    {
      "cell_type": "code",
      "source": [
        "add_and_subtract(100000)"
      ],
      "metadata": {
        "colab": {
          "base_uri": "https://localhost:8080/"
        },
        "id": "xK9MHJWWC49F",
        "outputId": "461d838b-9c92-4ad7-fb2b-24abe3337756"
      },
      "execution_count": 53,
      "outputs": [
        {
          "output_type": "execute_result",
          "data": {
            "text/plain": [
              "1.999999999994373"
            ]
          },
          "metadata": {},
          "execution_count": 53
        }
      ]
    },
    {
      "cell_type": "code",
      "source": [
        "add_and_subtract(10000000)"
      ],
      "metadata": {
        "colab": {
          "base_uri": "https://localhost:8080/"
        },
        "id": "gmJJ47QIC8p6",
        "outputId": "021d9c59-7ea9-47f5-fca9-860390ae1d0d"
      },
      "execution_count": 54,
      "outputs": [
        {
          "output_type": "execute_result",
          "data": {
            "text/plain": [
              "1.9999999998634057"
            ]
          },
          "metadata": {},
          "execution_count": 54
        }
      ]
    }
  ]
}