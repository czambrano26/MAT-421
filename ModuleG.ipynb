{
  "nbformat": 4,
  "nbformat_minor": 0,
  "metadata": {
    "colab": {
      "provenance": [],
      "authorship_tag": "ABX9TyMdp9VUYj5piTDmr1Q9AwpX",
      "include_colab_link": true
    },
    "kernelspec": {
      "name": "python3",
      "display_name": "Python 3"
    },
    "language_info": {
      "name": "python"
    }
  },
  "cells": [
    {
      "cell_type": "markdown",
      "metadata": {
        "id": "view-in-github",
        "colab_type": "text"
      },
      "source": [
        "<a href=\"https://colab.research.google.com/github/czambrano26/MAT-421/blob/main/ModuleG.ipynb\" target=\"_parent\"><img src=\"https://colab.research.google.com/assets/colab-badge.svg\" alt=\"Open In Colab\"/></a>"
      ]
    },
    {
      "cell_type": "markdown",
      "source": [
        "Module G: Section 21.1, 21.2, 21.3"
      ],
      "metadata": {
        "id": "vU-bhRfKVcA4"
      }
    },
    {
      "cell_type": "markdown",
      "source": [
        "Section 21.1: Numerical Integration Problem Statement\n",
        "\n",
        "---\n",
        "To approximate the integral of a function f(x) over the interval [a, b], we must assume that the interval has been discretized into a numerical grid. In this numerical grid, x consists of n+1 points with spacing h = (b-a)/n. The area we would like to appoximate can be seen in the figure below. "
      ],
      "metadata": {
        "id": "LDtKfzlGVnLK"
      }
    },
    {
      "cell_type": "code",
      "source": [
        "import numpy as np\n",
        "import matplotlib.pyplot as plt\n",
        "from matplotlib.patches import Polygon\n",
        "\n",
        "def func(x):\n",
        "    return -x**2 + 200\n",
        "\n",
        "a, b = 2, 9  # integral limits\n",
        "x = np.linspace(0, 11)\n",
        "y = func(x)\n",
        "\n",
        "fig, ax = plt.subplots()\n",
        "ax.plot(x, y, 'c', linewidth=2)\n",
        "ax.set_ylim(bottom=0)\n",
        "\n",
        "# Make the shaded region\n",
        "ix = np.linspace(a, b)\n",
        "iy = func(ix)\n",
        "verts = [(a, 0), *zip(ix, iy), (b, 0)]\n",
        "poly = Polygon(verts, facecolor='0.8', edgecolor='0.5')\n",
        "ax.add_patch(poly)\n",
        "\n",
        "ax.text(0.5 * (a + b), 30, r\"$I = \\int_a^b f(x)\\mathrm{d}x$\",\n",
        "        horizontalalignment='center', fontsize=16)\n",
        "\n",
        "fig.text(0.9, 0.05, '$x$')\n",
        "fig.text(0.1, 0.9, '$y$')\n",
        "\n",
        "ax.spines[['top', 'right']].set_visible(False)\n",
        "ax.set_xticks([a, b], labels=['$a$', '$b$'])\n",
        "ax.set_yticks([])\n",
        "\n",
        "plt.show()"
      ],
      "metadata": {
        "colab": {
          "base_uri": "https://localhost:8080/",
          "height": 286
        },
        "id": "FgVx5a9V6W4O",
        "outputId": "bf57016e-102d-4f8d-a522-6e341667c0ae"
      },
      "execution_count": 70,
      "outputs": [
        {
          "output_type": "display_data",
          "data": {
            "text/plain": [
              "<Figure size 432x288 with 1 Axes>"
            ],
            "image/png": "[encoded data removed]"
          },
          "metadata": {
            "needs_background": "light"
          }
        }
      ]
    },
    {
      "cell_type": "markdown",
      "source": [
        "The rest of the chapter will show different methods of approximating the area under the curve f(x). "
      ],
      "metadata": {
        "id": "eq_BRUjI71aZ"
      }
    },
    {
      "cell_type": "markdown",
      "source": [
        "Section 21.2: Riemanns Integral\n",
        "\n",
        "---\n",
        "This method approximates integrals by summing the area of rectangles that are defined for each subinterval. The width of the rectangle is h, and the height of the rectangle is defined by the function value f(x) for some x in the subinterval. We can use either the left or right endpoint to determine the height. \n",
        "\n",
        "As h gets small, we want to see how the accuracy improves. To determine this, we have to reqrite the integral of f(x) over an arbitrary subinterval in terms of the Taylor series. \n",
        "\n",
        "Instead of using the left or right endpoints, we can also use the midpoint of the rectngle. This is called the Midpoint Rule. "
      ],
      "metadata": {
        "id": "YLc-Ho6yV0kv"
      }
    },
    {
      "cell_type": "markdown",
      "source": [
        "Ex. Use the left Riemann Integral, right Riemann Integral, and Midpoint rule to approximate the integral of cos(x)dx from 3π/2 to 5π/2. Use 12 evenly spaced grid points over the whole interval. Compare the approximations to the exact value of 2. "
      ],
      "metadata": {
        "id": "PrRsrrSHDvx1"
      }
    },
    {
      "cell_type": "code",
      "source": [
        "def func(x):\n",
        "    return np.cos(x)\n",
        "\n",
        "a, b = 3*math.pi/2, 5*math.pi/2  # integral limits\n",
        "x = np.linspace(0, 15)\n",
        "y = func(x)\n",
        "\n",
        "fig, ax = plt.subplots()\n",
        "ax.plot(x, y, 'c', linewidth=2)\n",
        "ax.set_ylim(bottom=0)\n",
        "\n",
        "# Make the shaded region\n",
        "ix = np.linspace(a, b)\n",
        "iy = func(ix)\n",
        "verts = [(a, 0), *zip(ix, iy), (b, 0)]\n",
        "poly = Polygon(verts, facecolor='0.8', edgecolor='0.5')\n",
        "ax.add_patch(poly)\n",
        "\n",
        "fig.text(0.9, 0.05, '$x$')\n",
        "fig.text(0.1, 0.9, '$y$')\n",
        "\n",
        "ax.spines[['top', 'right']].set_visible(False)\n",
        "ax.set_xticks([a, b], labels=['$a = 3π/2$', '$b = 5π/2$'])\n",
        "ax.set_yticks([])\n",
        "plt.show()\n",
        "\n",
        "\n",
        "a = 3*math.pi/2\n",
        "b = 5*math.pi/2\n",
        "n = 12\n",
        "h = (b - a) / (n - 1)\n",
        "x = np.linspace(a, b, n)\n",
        "f = np.cos(x)\n",
        "\n",
        "I_riemannL = h * sum(f[:n-1])\n",
        "err_riemannL = 2 - I_riemannL\n",
        "\n",
        "I_riemannR = h * sum(f[1::])\n",
        "err_riemannR = 2 - I_riemannR\n",
        "\n",
        "I_mid = h * sum(np.cos((x[:n-1] \\\n",
        "        + x[1:])/2))\n",
        "err_mid = 2 - I_mid\n",
        "\n",
        "print(f\"Left Riemann Integral: {I_riemannL}\")\n",
        "print(f\"Left Riemann Integral Error: {err_riemannL}\\n\")\n",
        "\n",
        "print(f\"Right Riemann Integral: {I_riemannR}\")\n",
        "print(f\"Right Riemann Integral Error: {err_riemannR}\\n\")\n",
        "\n",
        "print(f\"Midpoint Integral: {I_mid}\")\n",
        "print(f\"Midpoint Integral Error: {err_mid}\")"
      ],
      "metadata": {
        "colab": {
          "base_uri": "https://localhost:8080/",
          "height": 425
        },
        "id": "0j4Nc4Pp9osE",
        "outputId": "478be8f5-79a0-4e1f-f7d8-c3248a04852f"
      },
      "execution_count": 75,
      "outputs": [
        {
          "output_type": "display_data",
          "data": {
            "text/plain": [
              "<Figure size 432x288 with 1 Axes>"
            ],
            "image/png": "[encoded data removed]"
          },
          "metadata": {
            "needs_background": "light"
          }
        },
        {
          "output_type": "stream",
          "name": "stdout",
          "text": [
            "Left Riemann Integral: 1.986386986581657\n",
            "Left Riemann Integral Error: 0.013613013418342979\n",
            "\n",
            "Right Riemann Integral: 1.986386986581657\n",
            "Right Riemann Integral Error: 0.013613013418342979\n",
            "\n",
            "Midpoint Integral: 2.0068134539568834\n",
            "Midpoint Integral Error: -0.006813453956883375\n"
          ]
        }
      ]
    },
    {
      "cell_type": "markdown",
      "source": [
        "Section 21.3: Trapezoid Rule\n",
        "\n",
        "---\n",
        "The Trapezoid Rule fits a trapezoind into each subinterval instead of a rectangle. \n",
        "\n",
        "The corners of the trapezoid are at (x_i, 0), (x_(i+1), 0), (x_i, f(x_i)), and (x_(i+1), f(x_(i+1))).\n",
        "\n",
        "Ex. Use the Trapezoid Rule to approximate the integral of cos(x)dx from 3π/2 to 5π/2. Use 12 evenly spaced grid points over the whole interval. Compare the approximations to the exact value of 2. "
      ],
      "metadata": {
        "id": "uk9JQEw0V5hi"
      }
    },
    {
      "cell_type": "code",
      "source": [
        "def func(x):\n",
        "    return np.cos(x)\n",
        "\n",
        "a, b = 3*math.pi/2, 5*math.pi/2  # integral limits\n",
        "x = np.linspace(0, 15)\n",
        "y = func(x)\n",
        "\n",
        "fig, ax = plt.subplots()\n",
        "ax.plot(x, y, 'c', linewidth=2)\n",
        "ax.set_ylim(bottom=0)\n",
        "\n",
        "# Make the shaded region\n",
        "ix = np.linspace(a, b)\n",
        "iy = func(ix)\n",
        "verts = [(a, 0), *zip(ix, iy), (b, 0)]\n",
        "poly = Polygon(verts, facecolor='0.8', edgecolor='0.5')\n",
        "ax.add_patch(poly)\n",
        "\n",
        "fig.text(0.9, 0.05, '$x$')\n",
        "fig.text(0.1, 0.9, '$y$')\n",
        "\n",
        "ax.spines[['top', 'right']].set_visible(False)\n",
        "ax.set_xticks([a, b], labels=['$a = 3π/2$', '$b = 5π/2$'])\n",
        "ax.set_yticks([])\n",
        "plt.show()\n",
        "\n",
        "\n",
        "a = 3*math.pi/2\n",
        "b = 5*math.pi/2\n",
        "n = 12\n",
        "h = (b - a) / (n - 1)\n",
        "x = np.linspace(a, b, n)\n",
        "f = np.cos(x)\n",
        "\n",
        "I_trap = (h/2)*(f[0] + \\\n",
        "          2 * sum(f[1:n-1]) + f[n-1])\n",
        "err_trap = 2 - I_trap\n",
        "\n",
        "print(f\"Trapezoid Integral: {I_trap}\")\n",
        "print(f\"Trapezoid Integral Error: {err_trap}\")"
      ],
      "metadata": {
        "colab": {
          "base_uri": "https://localhost:8080/",
          "height": 321
        },
        "id": "7Oqb1LywHnou",
        "outputId": "ce432f4c-795c-48ee-9326-97d18505aac9"
      },
      "execution_count": 78,
      "outputs": [
        {
          "output_type": "display_data",
          "data": {
            "text/plain": [
              "<Figure size 432x288 with 1 Axes>"
            ],
            "image/png": "[encoded data removed]"
          },
          "metadata": {
            "needs_background": "light"
          }
        },
        {
          "output_type": "stream",
          "name": "stdout",
          "text": [
            "Trapezoid Integral: 1.986386986581657\n",
            "Trapezoid Integral Error: 0.013613013418342979\n"
          ]
        }
      ]
    }
  ]
}