{
  "nbformat": 4,
  "nbformat_minor": 0,
  "metadata": {
    "colab": {
      "provenance": [],
      "authorship_tag": "ABX9TyO4sIs05k8uOuP+7oC5C7Ea",
      "include_colab_link": true
    },
    "kernelspec": {
      "name": "python3",
      "display_name": "Python 3"
    },
    "language_info": {
      "name": "python"
    }
  },
  "cells": [
    {
      "cell_type": "markdown",
      "metadata": {
        "id": "view-in-github",
        "colab_type": "text"
      },
      "source": [
        "<a href=\"https://colab.research.google.com/github/czambrano26/MAT-421/blob/main/ModuleE.ipynb\" target=\"_parent\"><img src=\"https://colab.research.google.com/assets/colab-badge.svg\" alt=\"Open In Colab\"/></a>"
      ]
    },
    {
      "cell_type": "markdown",
      "source": [
        "Section 3.2 - Continuity and Differentiation\n",
        "\n",
        "---\n",
        "Derivative: The derivative of a function measures the sensitivity to change of the function value with respect to another variable. The derivative of a function f at x0 is f'(x0) = lim(h->0) [f(x0+h)-f(x0)] / h\n",
        "\n",
        "Rolle Theorem: Let f:[a,b]->R be a continuous function and assume that its derivative exists on (a,b). If f(a) = f(b), then there is a < c < b such that f'(c)=0.\n",
        "\n",
        "Mean Value Theorem: Let f:[a,b]->R be a continuous function and assume that its derivative exists on (a,b). If f(a) = f(b), then there is a < c < b such that f(b) = f(a) + (b-a) f'(c). Rearranged, this is f'(c) = [f(b)-f(a)] / (b-a). \n",
        "\n",
        "Chain Rule:\n",
        "\n",
        "\n"
      ],
      "metadata": {
        "id": "3AjuOKolxcpe"
      }
    }
  ]
}