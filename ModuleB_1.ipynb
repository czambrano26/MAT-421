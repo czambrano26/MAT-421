{
  "nbformat": 4,
  "nbformat_minor": 0,
  "metadata": {
    "colab": {
      "provenance": [],
      "authorship_tag": "ABX9TyMs1LBHhcAJTQfvLjV4Ak9z",
      "include_colab_link": true
    },
    "kernelspec": {
      "name": "python3",
      "display_name": "Python 3"
    },
    "language_info": {
      "name": "python"
    }
  },
  "cells": [
    {
      "cell_type": "markdown",
      "metadata": {
        "id": "view-in-github",
        "colab_type": "text"
      },
      "source": [
        "<a href=\"https://colab.research.google.com/github/czambrano26/MAT-421/blob/main/ModuleB_1.ipynb\" target=\"_parent\"><img src=\"https://colab.research.google.com/assets/colab-badge.svg\" alt=\"Open In Colab\"/></a>"
      ]
    },
    {
      "cell_type": "markdown",
      "source": [
        "Section 17.1: Interpolation Problem Statement\n",
        "\n",
        "---\n",
        "\n",
        "Notes\n",
        "\n"
      ],
      "metadata": {
        "id": "DCTrswt8fety"
      }
    },
    {
      "cell_type": "markdown",
      "source": [
        "Section 17.2: Linear Interpolation\n",
        "\n",
        "---\n",
        "\n",
        "Notes"
      ],
      "metadata": {
        "id": "6tQD0DnvftMl"
      }
    },
    {
      "cell_type": "markdown",
      "source": [
        "Section 17.3: Cubic Spline Interpolation\n",
        "\n",
        "---\n",
        "\n",
        "Notes"
      ],
      "metadata": {
        "id": "JDaSTGO_fvFv"
      }
    }
  ]
}