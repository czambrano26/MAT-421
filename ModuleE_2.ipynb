{
  "nbformat": 4,
  "nbformat_minor": 0,
  "metadata": {
    "colab": {
      "provenance": [],
      "authorship_tag": "ABX9TyM83J/hXdFTVnXdRp+U4TyQ",
      "include_colab_link": true
    },
    "kernelspec": {
      "name": "python3",
      "display_name": "Python 3"
    },
    "language_info": {
      "name": "python"
    }
  },
  "cells": [
    {
      "cell_type": "markdown",
      "metadata": {
        "id": "view-in-github",
        "colab_type": "text"
      },
      "source": [
        "<a href=\"https://colab.research.google.com/github/czambrano26/MAT-421/blob/main/ModuleE_2.ipynb\" target=\"_parent\"><img src=\"https://colab.research.google.com/assets/colab-badge.svg\" alt=\"Open In Colab\"/></a>"
      ]
    },
    {
      "cell_type": "markdown",
      "source": [
        "Section 3.4: Logistic Regression\n",
        "\n",
        "---\n",
        "Logistic regression is a model that uses a logistic function to model a binary dependent variable. \n",
        "\n",
        "\n"
      ],
      "metadata": {
        "id": "2GHcjIfrd04o"
      }
    },
    {
      "cell_type": "markdown",
      "source": [
        "Section 3.5: K-means\n",
        "\n",
        "---\n",
        "k-means clustering is a popular method of vector quantization that is used to partition n observations into k clusters. Each observation belongs to the cluster with the nearest mean. \n",
        "\n",
        "K-means Clustering Algorithm:\n",
        "1. Clusters the data into k groups where k is predefined\n",
        "2. Select k points at random as cluster centers\n",
        "3. Assign objects to their closest cluster center according to the \n",
        "Euclidean distance function\n",
        "4. Calculate the centroid or mean of all objects in each cluster\n",
        "5. Repeat steps 2, 3, and 4 until the same points are assigned to each cluster in consecutive rounds\n",
        "\n",
        "Using some test data, apply k-means() and plot "
      ],
      "metadata": {
        "id": "8qp8yRwMBXk5"
      }
    },
    {
      "cell_type": "code",
      "source": [
        "# Ex. from geeksforgeeks\n",
        "import numpy as np\n",
        "import cv2\n",
        "from matplotlib import pyplot as plt\n",
        "  \n",
        "X = np.random.randint(0,20,(25,2))\n",
        "Y = np.random.randint(20,40,(25,2))\n",
        "Z = np.vstack((X,Y))\n",
        "  \n",
        "Z = np.float32(Z)\n",
        "  \n",
        "criteria = (cv2.TERM_CRITERIA_EPS + cv2.TERM_CRITERIA_MAX_ITER, 10, 1.0)\n",
        "ret,label,center = cv2.kmeans(Z,2,None,criteria,10,cv2.KMEANS_RANDOM_CENTERS)\n",
        "  \n",
        "# Now separate the data\n",
        "A = Z[label.ravel()==0]\n",
        "B = Z[label.ravel()==1]\n",
        "  \n",
        "# Plot the data\n",
        "plt.scatter(A[:,0], A[:,1], c = 'm')\n",
        "plt.scatter(B[:,0], B[:,1], c = 'c')\n",
        "plt.scatter(center[:,0],center[:,1], s = 200, c = 'k', marker = 'X')\n",
        "plt.xlabel('Test Data'),plt.ylabel('Z samples')\n",
        "plt.show()"
      ],
      "metadata": {
        "colab": {
          "base_uri": "https://localhost:8080/",
          "height": 279
        },
        "id": "j1XvT9y6FsZC",
        "outputId": "bc9a970f-7436-46ae-b653-227d36082d64"
      },
      "execution_count": null,
      "outputs": [
        {
          "output_type": "display_data",
          "data": {
            "text/plain": [
              "<Figure size 432x288 with 1 Axes>"
            ],
            "image/png": "[encoded data removed]"
          },
          "metadata": {
            "needs_background": "light"
          }
        }
      ]
    },
    {
      "cell_type": "markdown",
      "source": [
        "Section 3.6: Support Vector Machine\n",
        "\n",
        "---\n",
        "Support Vector Machines (SVMs) are supervised learning models in machine learning. An SVM training algorithm builds a model that assigns new examples to a category. The objective is to find a hyperplace in a high dimensional space that distinctly classifies the data points. \n",
        "\n",
        "Use sklearn in Python to predict new values after fitting the data points. "
      ],
      "metadata": {
        "id": "FRUxM_xzBbzg"
      }
    },
    {
      "cell_type": "code",
      "source": [
        "from sklearn import svm\n",
        "X = [[0, 0], [1, 1]]\n",
        "y = [0, 1]\n",
        "clf = svm.SVC()\n",
        "clf.fit(X, y)\n",
        "\n",
        "clf.predict([[2., 2.]])\n"
      ],
      "metadata": {
        "colab": {
          "base_uri": "https://localhost:8080/"
        },
        "id": "lOz8pfOMKY71",
        "outputId": "2d12db75-1115-4714-9b83-13f88a88f236"
      },
      "execution_count": null,
      "outputs": [
        {
          "output_type": "execute_result",
          "data": {
            "text/plain": [
              "array([1])"
            ]
          },
          "metadata": {},
          "execution_count": 33
        }
      ]
    },
    {
      "cell_type": "markdown",
      "source": [
        "Section 3.7: Neural Networks\n",
        "\n",
        "---\n",
        "Artificial neural networks are a collection of connected layers of units to loosely model the neurons in a biological brain. To minimize cost functions, differentiation is used.\n",
        "\n",
        "There are numerous activation functions. These include step, ReLU, sigmoid, softmax, and cost functions. "
      ],
      "metadata": {
        "id": "pQ8FvcVvBgYI"
      }
    }
  ]
}